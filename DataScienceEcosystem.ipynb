{
 "cells": [
  {
   "cell_type": "markdown",
   "id": "f068683c-7bea-4659-a47e-7e3850579009",
   "metadata": {
    "tags": []
   },
   "source": [
    "# data science Tools and Ecosystem"
   ]
  },
  {
   "cell_type": "markdown",
   "id": "6461fca3-94cd-4336-993e-5b96264c6406",
   "metadata": {},
   "source": [
    "In this notebook, Data Science Tools and Ecosystem are summarized."
   ]
  },
  {
   "cell_type": "markdown",
   "id": "2ebaccae-9d9c-406c-9492-80006dfd3a96",
   "metadata": {
    "tags": []
   },
   "source": [
    "**Objectives :**\n",
    "- knowing popular languages for Data Science\n",
    "- knowing most important tools \n",
    "- practice on creating and uploading Jupyter Notebook\n",
    "- learn basic syntax \n"
   ]
  },
  {
   "cell_type": "markdown",
   "id": "7f365955-5bdb-4907-877f-7cd568a27d0f",
   "metadata": {
    "tags": []
   },
   "source": [
    "Some of the popular languages that Data Scientists use are:\n",
    "1. Python\n",
    "2. R\n",
    "3. SQL"
   ]
  },
  {
   "cell_type": "markdown",
   "id": "c1379032-a2be-4fd7-b7c8-2f57896ddb6d",
   "metadata": {},
   "source": [
    "Some of the commonly used libraries used by Data Scientists include:\n",
    "1. NumPy\n",
    "2. Pandas\n",
    "3. Matplotlib"
   ]
  },
  {
   "cell_type": "markdown",
   "id": "73f08505-bf60-42e2-8089-638d930c3752",
   "metadata": {
    "tags": []
   },
   "source": [
    "| Data Science Tools |\n",
    "|-----|\n",
    "|Jupyter Notebooks|\n",
    "|RStudio|\n",
    "|Apache Spark|\n"
   ]
  },
  {
   "cell_type": "markdown",
   "id": "719ba8b4-5087-48c1-8546-cba899ff975c",
   "metadata": {},
   "source": [
    "### Below are a few examples of evaluating arithmetic expressions in Python"
   ]
  },
  {
   "cell_type": "code",
   "execution_count": 7,
   "id": "32b8a58f-bccc-4052-9825-3a7a9cbed12a",
   "metadata": {
    "tags": []
   },
   "outputs": [
    {
     "data": {
      "text/plain": [
       "17"
      ]
     },
     "execution_count": 7,
     "metadata": {},
     "output_type": "execute_result"
    }
   ],
   "source": [
    "#This a simple arithmetic expression to mutiply then add integers\n",
    "(3*4)+5"
   ]
  },
  {
   "cell_type": "code",
   "execution_count": 6,
   "id": "54ee29d7-1458-4408-98de-3bb8a451c31b",
   "metadata": {
    "tags": []
   },
   "outputs": [
    {
     "data": {
      "text/plain": [
       "3.3333333333333335"
      ]
     },
     "execution_count": 6,
     "metadata": {},
     "output_type": "execute_result"
    }
   ],
   "source": [
    "#This will convert 200 minutes to hours by diving by 60\n",
    "(200/60)"
   ]
  },
  {
   "cell_type": "markdown",
   "id": "2989d385-61cf-4421-86fa-35fb263beff4",
   "metadata": {},
   "source": [
    "## Auther\n",
    "Mohammed Alghamdi"
   ]
  }
 ],
 "metadata": {
  "kernelspec": {
   "display_name": "Python",
   "language": "python",
   "name": "conda-env-python-py"
  },
  "language_info": {
   "codemirror_mode": {
    "name": "ipython",
    "version": 3
   },
   "file_extension": ".py",
   "mimetype": "text/x-python",
   "name": "python",
   "nbconvert_exporter": "python",
   "pygments_lexer": "ipython3",
   "version": "3.7.12"
  }
 },
 "nbformat": 4,
 "nbformat_minor": 5
}
